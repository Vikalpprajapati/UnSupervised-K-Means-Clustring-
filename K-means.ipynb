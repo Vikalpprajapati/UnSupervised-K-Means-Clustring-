{
 "cells": [
  {
   "cell_type": "markdown",
   "id": "124041dd-e526-4209-9fb2-b52e75393c99",
   "metadata": {},
   "source": [
    "# Problem Statement"
   ]
  },
  {
   "cell_type": "markdown",
   "id": "3307f1ed-9c67-4fc0-bf93-b976b549c079",
   "metadata": {},
   "source": [
    "## Many millons of teenage consumers using Social-networking site have attracted the attention of market as strugling to find edge in an increasingly competitive market.One way to gain this edge to identify segment of teenager so that client, can avoid targeting advertisement to teens with no intrest in the product being sold.\n",
    "## Build K-mean clustring model to classify the intrest of teenagers by using various attributes "
   ]
  },
  {
   "cell_type": "code",
   "execution_count": 87,
   "id": "452b2049-e5f2-4e46-a272-eb9e10d34839",
   "metadata": {},
   "outputs": [],
   "source": [
    "import pandas as pd"
   ]
  },
  {
   "cell_type": "code",
   "execution_count": 88,
   "id": "7721bbba-24f5-4aab-86b5-cca5b4664ca7",
   "metadata": {},
   "outputs": [],
   "source": [
    "df=pd.read_csv('snsdata.csv')"
   ]
  },
  {
   "cell_type": "code",
   "execution_count": 89,
   "id": "e61b3836-02a4-4778-b1cf-b51ad82110c1",
   "metadata": {},
   "outputs": [
    {
     "data": {
      "text/plain": [
       "(30000, 40)"
      ]
     },
     "execution_count": 89,
     "metadata": {},
     "output_type": "execute_result"
    }
   ],
   "source": [
    "df.shape"
   ]
  },
  {
   "cell_type": "code",
   "execution_count": 90,
   "id": "e0764406-d947-44f8-9b68-570234fe7387",
   "metadata": {
    "tags": []
   },
   "outputs": [
    {
     "data": {
      "text/plain": [
       "gradyear           0\n",
       "gender          2724\n",
       "age             5086\n",
       "friends            0\n",
       "basketball         0\n",
       "football           0\n",
       "soccer             0\n",
       "softball           0\n",
       "volleyball         0\n",
       "swimming           0\n",
       "cheerleading       0\n",
       "baseball           0\n",
       "tennis             0\n",
       "sports             0\n",
       "cute               0\n",
       "sex                0\n",
       "sexy               0\n",
       "hot                0\n",
       "kissed             0\n",
       "dance              0\n",
       "band               0\n",
       "marching           0\n",
       "music              0\n",
       "rock               0\n",
       "god                0\n",
       "church             0\n",
       "jesus              0\n",
       "bible              0\n",
       "hair               0\n",
       "dress              0\n",
       "blonde             0\n",
       "mall               0\n",
       "shopping           0\n",
       "clothes            0\n",
       "hollister          0\n",
       "abercrombie        0\n",
       "die                0\n",
       "death              0\n",
       "drunk              0\n",
       "drugs              0\n",
       "dtype: int64"
      ]
     },
     "execution_count": 90,
     "metadata": {},
     "output_type": "execute_result"
    }
   ],
   "source": [
    "df.isna().sum()"
   ]
  },
  {
   "cell_type": "code",
   "execution_count": 91,
   "id": "f020f203-2918-4c75-bcbf-f5047d9072aa",
   "metadata": {},
   "outputs": [
    {
     "data": {
      "text/plain": [
       "F    22054\n",
       "M     5222\n",
       "Name: gender, dtype: int64"
      ]
     },
     "execution_count": 91,
     "metadata": {},
     "output_type": "execute_result"
    }
   ],
   "source": [
    "df.gender.value_counts()"
   ]
  },
  {
   "cell_type": "code",
   "execution_count": 92,
   "id": "28e1115d-6486-48cd-a67c-8438f73972ca",
   "metadata": {},
   "outputs": [],
   "source": [
    "df.gender = df.gender.fillna('F')"
   ]
  },
  {
   "cell_type": "code",
   "execution_count": 93,
   "id": "e025f058-fbf2-40bc-b9de-f58bb7bd58db",
   "metadata": {},
   "outputs": [],
   "source": [
    "df.age=df.age.fillna(df.age.mean())"
   ]
  },
  {
   "cell_type": "code",
   "execution_count": 94,
   "id": "5ea4d491-6c3a-4a52-a02e-0a357de577f6",
   "metadata": {
    "tags": []
   },
   "outputs": [
    {
     "data": {
      "text/plain": [
       "gradyear        0\n",
       "gender          0\n",
       "age             0\n",
       "friends         0\n",
       "basketball      0\n",
       "football        0\n",
       "soccer          0\n",
       "softball        0\n",
       "volleyball      0\n",
       "swimming        0\n",
       "cheerleading    0\n",
       "baseball        0\n",
       "tennis          0\n",
       "sports          0\n",
       "cute            0\n",
       "sex             0\n",
       "sexy            0\n",
       "hot             0\n",
       "kissed          0\n",
       "dance           0\n",
       "band            0\n",
       "marching        0\n",
       "music           0\n",
       "rock            0\n",
       "god             0\n",
       "church          0\n",
       "jesus           0\n",
       "bible           0\n",
       "hair            0\n",
       "dress           0\n",
       "blonde          0\n",
       "mall            0\n",
       "shopping        0\n",
       "clothes         0\n",
       "hollister       0\n",
       "abercrombie     0\n",
       "die             0\n",
       "death           0\n",
       "drunk           0\n",
       "drugs           0\n",
       "dtype: int64"
      ]
     },
     "execution_count": 94,
     "metadata": {},
     "output_type": "execute_result"
    }
   ],
   "source": [
    "df.isnull().sum()"
   ]
  },
  {
   "cell_type": "code",
   "execution_count": 95,
   "id": "0cc5923a-dc66-467c-bb90-f0a23eac04a6",
   "metadata": {},
   "outputs": [],
   "source": [
    "df.gender.replace({'M':0,'F':1},inplace=True)"
   ]
  },
  {
   "cell_type": "code",
   "execution_count": 96,
   "id": "f519a043-9c2f-4b5b-a3f9-7dda09ca70a4",
   "metadata": {
    "tags": []
   },
   "outputs": [
    {
     "name": "stdout",
     "output_type": "stream",
     "text": [
      "<class 'pandas.core.frame.DataFrame'>\n",
      "RangeIndex: 30000 entries, 0 to 29999\n",
      "Data columns (total 40 columns):\n",
      " #   Column        Non-Null Count  Dtype  \n",
      "---  ------        --------------  -----  \n",
      " 0   gradyear      30000 non-null  int64  \n",
      " 1   gender        30000 non-null  int64  \n",
      " 2   age           30000 non-null  float64\n",
      " 3   friends       30000 non-null  int64  \n",
      " 4   basketball    30000 non-null  int64  \n",
      " 5   football      30000 non-null  int64  \n",
      " 6   soccer        30000 non-null  int64  \n",
      " 7   softball      30000 non-null  int64  \n",
      " 8   volleyball    30000 non-null  int64  \n",
      " 9   swimming      30000 non-null  int64  \n",
      " 10  cheerleading  30000 non-null  int64  \n",
      " 11  baseball      30000 non-null  int64  \n",
      " 12  tennis        30000 non-null  int64  \n",
      " 13  sports        30000 non-null  int64  \n",
      " 14  cute          30000 non-null  int64  \n",
      " 15  sex           30000 non-null  int64  \n",
      " 16  sexy          30000 non-null  int64  \n",
      " 17  hot           30000 non-null  int64  \n",
      " 18  kissed        30000 non-null  int64  \n",
      " 19  dance         30000 non-null  int64  \n",
      " 20  band          30000 non-null  int64  \n",
      " 21  marching      30000 non-null  int64  \n",
      " 22  music         30000 non-null  int64  \n",
      " 23  rock          30000 non-null  int64  \n",
      " 24  god           30000 non-null  int64  \n",
      " 25  church        30000 non-null  int64  \n",
      " 26  jesus         30000 non-null  int64  \n",
      " 27  bible         30000 non-null  int64  \n",
      " 28  hair          30000 non-null  int64  \n",
      " 29  dress         30000 non-null  int64  \n",
      " 30  blonde        30000 non-null  int64  \n",
      " 31  mall          30000 non-null  int64  \n",
      " 32  shopping      30000 non-null  int64  \n",
      " 33  clothes       30000 non-null  int64  \n",
      " 34  hollister     30000 non-null  int64  \n",
      " 35  abercrombie   30000 non-null  int64  \n",
      " 36  die           30000 non-null  int64  \n",
      " 37  death         30000 non-null  int64  \n",
      " 38  drunk         30000 non-null  int64  \n",
      " 39  drugs         30000 non-null  int64  \n",
      "dtypes: float64(1), int64(39)\n",
      "memory usage: 9.2 MB\n"
     ]
    }
   ],
   "source": [
    "df.info()"
   ]
  },
  {
   "cell_type": "code",
   "execution_count": 97,
   "id": "71016f72-a674-4910-a225-7bbcb559e643",
   "metadata": {},
   "outputs": [],
   "source": [
    "from sklearn.cluster import KMeans"
   ]
  },
  {
   "cell_type": "code",
   "execution_count": 98,
   "id": "340c3762-2e97-4120-9303-745452a2905d",
   "metadata": {},
   "outputs": [],
   "source": [
    "kmeans_sns=KMeans(n_clusters=3)"
   ]
  },
  {
   "cell_type": "code",
   "execution_count": 99,
   "id": "fcf67a28-6a44-425b-aa4a-63c683e4096e",
   "metadata": {},
   "outputs": [
    {
     "data": {
      "text/plain": [
       "KMeans(n_clusters=3)"
      ]
     },
     "execution_count": 99,
     "metadata": {},
     "output_type": "execute_result"
    }
   ],
   "source": [
    "kmeans_sns.fit(df)\n",
    "# Model has been created"
   ]
  },
  {
   "cell_type": "code",
   "execution_count": 100,
   "id": "5c8a937d-c352-4ceb-b324-8f835a42c691",
   "metadata": {},
   "outputs": [
    {
     "data": {
      "text/plain": [
       "array([0, 0, 1, ..., 0, 0, 0])"
      ]
     },
     "execution_count": 100,
     "metadata": {},
     "output_type": "execute_result"
    }
   ],
   "source": [
    "kmeans_sns.labels_"
   ]
  },
  {
   "cell_type": "code",
   "execution_count": 101,
   "id": "11891e2e-80d2-4561-bf64-0c6bc9242bb4",
   "metadata": {},
   "outputs": [
    {
     "data": {
      "text/plain": [
       "array([[2.00745392e+03, 8.08174359e-01, 1.80412788e+01, 1.08365128e+01,\n",
       "        2.39442291e-01, 2.36371873e-01, 2.05869029e-01, 1.29158907e-01,\n",
       "        1.24377108e-01, 1.23370413e-01, 9.32199124e-02, 9.70453516e-02,\n",
       "        8.34549756e-02, 1.32783007e-01, 2.88719988e-01, 2.07479740e-01,\n",
       "        1.32229325e-01, 1.14763175e-01, 9.71963558e-02, 3.85110988e-01,\n",
       "        2.85498565e-01, 3.67443499e-02, 7.17622188e-01, 2.31690743e-01,\n",
       "        4.21351991e-01, 2.13570242e-01, 9.77500378e-02, 2.03352293e-02,\n",
       "        4.02778477e-01, 9.93607490e-02, 8.00322142e-02, 2.27361957e-01,\n",
       "        3.11873962e-01, 1.40584890e-01, 5.61232194e-02, 4.14758142e-02,\n",
       "        1.78637942e-01, 1.06206272e-01, 8.47133437e-02, 6.13076962e-02],\n",
       "       [2.00757566e+03, 8.53039182e-01, 1.79293735e+01, 5.60417098e+01,\n",
       "        3.12650810e-01, 2.82431346e-01, 2.57382512e-01, 2.19349650e-01,\n",
       "        1.76605768e-01, 1.56612662e-01, 1.21797081e-01, 1.18235091e-01,\n",
       "        9.50247041e-02, 1.56382856e-01, 3.76192118e-01, 2.10502126e-01,\n",
       "        1.53280478e-01, 1.42364702e-01, 1.13638975e-01, 4.95461335e-01,\n",
       "        3.31724693e-01, 4.88337355e-02, 7.78007584e-01, 2.68642997e-01,\n",
       "        5.37515799e-01, 3.07250373e-01, 1.38802712e-01, 2.24060669e-02,\n",
       "        4.48695852e-01, 1.29150868e-01, 1.35815236e-01, 2.99436976e-01,\n",
       "        4.23532115e-01, 1.62817419e-01, 9.08881995e-02, 6.54946570e-02,\n",
       "        1.92462369e-01, 1.28346547e-01, 9.01987820e-02, 6.04389291e-02],\n",
       "       [2.00767972e+03, 9.07692308e-01, 1.77294148e+01, 1.41513287e+02,\n",
       "        3.79020979e-01, 2.90209790e-01, 2.46853147e-01, 2.52447552e-01,\n",
       "        2.00000000e-01, 1.52447552e-01, 2.00699301e-01, 1.33566434e-01,\n",
       "        9.44055944e-02, 1.39860140e-01, 4.72727273e-01, 2.29370629e-01,\n",
       "        1.92307692e-01, 1.95104895e-01, 1.23076923e-01, 5.53846154e-01,\n",
       "        3.00000000e-01, 4.40559441e-02, 7.74125874e-01, 2.51048951e-01,\n",
       "        6.36363636e-01, 3.69230769e-01, 1.48251748e-01, 2.86713287e-02,\n",
       "        5.38461538e-01, 1.61538462e-01, 1.37062937e-01, 4.18181818e-01,\n",
       "        4.95104895e-01, 1.71328671e-01, 1.32867133e-01, 9.86013986e-02,\n",
       "        2.09090909e-01, 1.39860140e-01, 1.19580420e-01, 4.82517483e-02]])"
      ]
     },
     "execution_count": 101,
     "metadata": {},
     "output_type": "execute_result"
    }
   ],
   "source": [
    "kmeans_sns.cluster_centers_"
   ]
  },
  {
   "cell_type": "code",
   "execution_count": 102,
   "id": "53d7965e-9d8d-490c-ac86-4a346304d9e3",
   "metadata": {},
   "outputs": [],
   "source": [
    "# To find the best value of K we plot the elbow plot"
   ]
  },
  {
   "cell_type": "code",
   "execution_count": 103,
   "id": "94e69a73-c5b9-4f0b-a6da-e3bfff9ae756",
   "metadata": {},
   "outputs": [
    {
     "data": {
      "text/plain": [
       "-11294254.152967716"
      ]
     },
     "execution_count": 103,
     "metadata": {},
     "output_type": "execute_result"
    }
   ],
   "source": [
    "kmeans_sns.score(df)\n",
    "# while building the plot ignore the minus sign(take mod)"
   ]
  },
  {
   "cell_type": "code",
   "execution_count": 104,
   "id": "20759c8f-c223-44c0-9203-85cc0a4cee40",
   "metadata": {},
   "outputs": [],
   "source": [
    "ssd=[]\n",
    "for k in range(1,11):\n",
    "    kmeans_sns=KMeans(n_clusters=k)\n",
    "    kmeans_sns.fit(df)\n",
    "    score=kmeans_sns.score(df)\n",
    "    ssd.append(score)"
   ]
  },
  {
   "cell_type": "code",
   "execution_count": 105,
   "id": "0eb4692e-8ac9-44d9-8b44-ea81a134ccc3",
   "metadata": {},
   "outputs": [
    {
     "data": {
      "text/plain": [
       "[-42274974.92283437,\n",
       " -18611355.303126663,\n",
       " -11298600.067657592,\n",
       " -8109653.012615749,\n",
       " -6331420.107963124,\n",
       " -5066328.341704538,\n",
       " -3995876.038003647,\n",
       " -3111919.923432763,\n",
       " -2558849.393143448,\n",
       " -2217666.0554560646]"
      ]
     },
     "execution_count": 105,
     "metadata": {},
     "output_type": "execute_result"
    }
   ],
   "source": [
    "ssd"
   ]
  },
  {
   "cell_type": "code",
   "execution_count": 106,
   "id": "e6b40e86-6da1-4dfb-b6d5-23db68c7eca8",
   "metadata": {},
   "outputs": [],
   "source": [
    "import numpy as np"
   ]
  },
  {
   "cell_type": "code",
   "execution_count": 107,
   "id": "b34bde45-52f1-43ff-adbc-f13e56da66d4",
   "metadata": {},
   "outputs": [],
   "source": [
    "ssd=np.abs(ssd)"
   ]
  },
  {
   "cell_type": "code",
   "execution_count": 108,
   "id": "2153ab07-3f2d-40f3-8b02-40ca8015c4b7",
   "metadata": {},
   "outputs": [
    {
     "data": {
      "text/plain": [
       "array([42274974.92283437, 18611355.30312666, 11298600.06765759,\n",
       "        8109653.01261575,  6331420.10796312,  5066328.34170454,\n",
       "        3995876.03800365,  3111919.92343276,  2558849.39314345,\n",
       "        2217666.05545606])"
      ]
     },
     "execution_count": 108,
     "metadata": {},
     "output_type": "execute_result"
    }
   ],
   "source": [
    "ssd"
   ]
  },
  {
   "cell_type": "code",
   "execution_count": 109,
   "id": "4eb6997e-a44e-4379-8a63-58a9ef3bdadc",
   "metadata": {},
   "outputs": [],
   "source": [
    "ssd=np.round(ssd)"
   ]
  },
  {
   "cell_type": "code",
   "execution_count": 110,
   "id": "e61b2c15-eeff-44d8-bc16-b23086604e0a",
   "metadata": {},
   "outputs": [],
   "source": [
    "import matplotlib.pyplot as plt"
   ]
  },
  {
   "cell_type": "code",
   "execution_count": 111,
   "id": "0bd5d6ce-4521-4466-873e-e535ee5d1f58",
   "metadata": {},
   "outputs": [],
   "source": [
    "cluster_values=list(range(1,11))"
   ]
  },
  {
   "cell_type": "code",
   "execution_count": 112,
   "id": "24f3b594-ece1-4a4b-b0bf-f73a10a05d61",
   "metadata": {},
   "outputs": [
    {
     "data": {
      "image/png": "[encoded data removed]",
      "text/plain": [
       "<Figure size 432x288 with 1 Axes>"
      ]
     },
     "metadata": {
      "needs_background": "light"
     },
     "output_type": "display_data"
    }
   ],
   "source": [
    "plt.plot(cluster_values,ssd,marker=\"*\")\n",
    "plt.grid()"
   ]
  },
  {
   "cell_type": "code",
   "execution_count": 113,
   "id": "169d194f-5e31-4c3a-bb20-fe28e302be6c",
   "metadata": {},
   "outputs": [],
   "source": [
    " kmeans_sns=KMeans(n_clusters=5)"
   ]
  },
  {
   "cell_type": "code",
   "execution_count": 114,
   "id": "fdc950da-c156-40b7-b51e-b1a6cf188dab",
   "metadata": {},
   "outputs": [
    {
     "data": {
      "text/plain": [
       "KMeans(n_clusters=5)"
      ]
     },
     "execution_count": 114,
     "metadata": {},
     "output_type": "execute_result"
    }
   ],
   "source": [
    "kmeans_sns.fit(df)"
   ]
  },
  {
   "cell_type": "code",
   "execution_count": 115,
   "id": "6d66ee40-8269-4525-8747-42de11de371b",
   "metadata": {},
   "outputs": [],
   "source": [
    "centroids=pd.DataFrame(kmeans_sns.cluster_centers_)"
   ]
  },
  {
   "cell_type": "code",
   "execution_count": 116,
   "id": "51e6c6bc-a959-4d1e-b7dc-749d835ef471",
   "metadata": {},
   "outputs": [],
   "source": [
    "centroids.columns=df.columns"
   ]
  },
  {
   "cell_type": "code",
   "execution_count": 117,
   "id": "8c843bef-108e-460a-b911-e013bebe0173",
   "metadata": {},
   "outputs": [
    {
     "data": {
      "text/html": [
       "<div>\n",
       "<style scoped>\n",
       "    .dataframe tbody tr th:only-of-type {\n",
       "        vertical-align: middle;\n",
       "    }\n",
       "\n",
       "    .dataframe tbody tr th {\n",
       "        vertical-align: top;\n",
       "    }\n",
       "\n",
       "    .dataframe thead th {\n",
       "        text-align: right;\n",
       "    }\n",
       "</style>\n",
       "<table border=\"1\" class=\"dataframe\">\n",
       "  <thead>\n",
       "    <tr style=\"text-align: right;\">\n",
       "      <th></th>\n",
       "      <th>gradyear</th>\n",
       "      <th>gender</th>\n",
       "      <th>age</th>\n",
       "      <th>friends</th>\n",
       "      <th>basketball</th>\n",
       "      <th>football</th>\n",
       "      <th>soccer</th>\n",
       "      <th>softball</th>\n",
       "      <th>volleyball</th>\n",
       "      <th>swimming</th>\n",
       "      <th>...</th>\n",
       "      <th>blonde</th>\n",
       "      <th>mall</th>\n",
       "      <th>shopping</th>\n",
       "      <th>clothes</th>\n",
       "      <th>hollister</th>\n",
       "      <th>abercrombie</th>\n",
       "      <th>die</th>\n",
       "      <th>death</th>\n",
       "      <th>drunk</th>\n",
       "      <th>drugs</th>\n",
       "    </tr>\n",
       "  </thead>\n",
       "  <tbody>\n",
       "    <tr>\n",
       "      <th>0</th>\n",
       "      <td>2007.438015</td>\n",
       "      <td>0.807040</td>\n",
       "      <td>18.091533</td>\n",
       "      <td>5.765806</td>\n",
       "      <td>0.223332</td>\n",
       "      <td>0.228763</td>\n",
       "      <td>0.192021</td>\n",
       "      <td>0.121086</td>\n",
       "      <td>0.109420</td>\n",
       "      <td>0.115924</td>\n",
       "      <td>...</td>\n",
       "      <td>0.080322</td>\n",
       "      <td>0.219578</td>\n",
       "      <td>0.297620</td>\n",
       "      <td>0.134898</td>\n",
       "      <td>0.054844</td>\n",
       "      <td>0.039826</td>\n",
       "      <td>0.178880</td>\n",
       "      <td>0.101509</td>\n",
       "      <td>0.084076</td>\n",
       "      <td>0.064097</td>\n",
       "    </tr>\n",
       "    <tr>\n",
       "      <th>1</th>\n",
       "      <td>2007.507785</td>\n",
       "      <td>0.824066</td>\n",
       "      <td>17.915396</td>\n",
       "      <td>32.981206</td>\n",
       "      <td>0.289257</td>\n",
       "      <td>0.267682</td>\n",
       "      <td>0.245440</td>\n",
       "      <td>0.170151</td>\n",
       "      <td>0.169484</td>\n",
       "      <td>0.149244</td>\n",
       "      <td>...</td>\n",
       "      <td>0.121886</td>\n",
       "      <td>0.265125</td>\n",
       "      <td>0.377891</td>\n",
       "      <td>0.157028</td>\n",
       "      <td>0.071842</td>\n",
       "      <td>0.049044</td>\n",
       "      <td>0.194395</td>\n",
       "      <td>0.127335</td>\n",
       "      <td>0.089969</td>\n",
       "      <td>0.057051</td>\n",
       "    </tr>\n",
       "    <tr>\n",
       "      <th>2</th>\n",
       "      <td>2007.679821</td>\n",
       "      <td>0.905436</td>\n",
       "      <td>17.693426</td>\n",
       "      <td>125.506329</td>\n",
       "      <td>0.381236</td>\n",
       "      <td>0.295607</td>\n",
       "      <td>0.240506</td>\n",
       "      <td>0.257632</td>\n",
       "      <td>0.196575</td>\n",
       "      <td>0.146687</td>\n",
       "      <td>...</td>\n",
       "      <td>0.135517</td>\n",
       "      <td>0.422934</td>\n",
       "      <td>0.483991</td>\n",
       "      <td>0.169769</td>\n",
       "      <td>0.131050</td>\n",
       "      <td>0.090097</td>\n",
       "      <td>0.205510</td>\n",
       "      <td>0.134773</td>\n",
       "      <td>0.116902</td>\n",
       "      <td>0.047655</td>\n",
       "    </tr>\n",
       "    <tr>\n",
       "      <th>3</th>\n",
       "      <td>2007.626498</td>\n",
       "      <td>0.864458</td>\n",
       "      <td>17.927201</td>\n",
       "      <td>68.258444</td>\n",
       "      <td>0.332098</td>\n",
       "      <td>0.285683</td>\n",
       "      <td>0.271083</td>\n",
       "      <td>0.244062</td>\n",
       "      <td>0.182611</td>\n",
       "      <td>0.158640</td>\n",
       "      <td>...</td>\n",
       "      <td>0.102419</td>\n",
       "      <td>0.314448</td>\n",
       "      <td>0.438222</td>\n",
       "      <td>0.168010</td>\n",
       "      <td>0.095010</td>\n",
       "      <td>0.077359</td>\n",
       "      <td>0.173458</td>\n",
       "      <td>0.122249</td>\n",
       "      <td>0.086729</td>\n",
       "      <td>0.059054</td>\n",
       "    </tr>\n",
       "    <tr>\n",
       "      <th>4</th>\n",
       "      <td>2007.701863</td>\n",
       "      <td>0.919255</td>\n",
       "      <td>17.750491</td>\n",
       "      <td>254.826087</td>\n",
       "      <td>0.322981</td>\n",
       "      <td>0.260870</td>\n",
       "      <td>0.279503</td>\n",
       "      <td>0.211180</td>\n",
       "      <td>0.223602</td>\n",
       "      <td>0.223602</td>\n",
       "      <td>...</td>\n",
       "      <td>0.136646</td>\n",
       "      <td>0.316770</td>\n",
       "      <td>0.571429</td>\n",
       "      <td>0.198758</td>\n",
       "      <td>0.124224</td>\n",
       "      <td>0.149068</td>\n",
       "      <td>0.217391</td>\n",
       "      <td>0.161491</td>\n",
       "      <td>0.130435</td>\n",
       "      <td>0.055901</td>\n",
       "    </tr>\n",
       "  </tbody>\n",
       "</table>\n",
       "<p>5 rows × 40 columns</p>\n",
       "</div>"
      ],
      "text/plain": [
       "      gradyear    gender        age     friends  basketball  football  \\\n",
       "0  2007.438015  0.807040  18.091533    5.765806    0.223332  0.228763   \n",
       "1  2007.507785  0.824066  17.915396   32.981206    0.289257  0.267682   \n",
       "2  2007.679821  0.905436  17.693426  125.506329    0.381236  0.295607   \n",
       "3  2007.626498  0.864458  17.927201   68.258444    0.332098  0.285683   \n",
       "4  2007.701863  0.919255  17.750491  254.826087    0.322981  0.260870   \n",
       "\n",
       "     soccer  softball  volleyball  swimming  ...    blonde      mall  \\\n",
       "0  0.192021  0.121086    0.109420  0.115924  ...  0.080322  0.219578   \n",
       "1  0.245440  0.170151    0.169484  0.149244  ...  0.121886  0.265125   \n",
       "2  0.240506  0.257632    0.196575  0.146687  ...  0.135517  0.422934   \n",
       "3  0.271083  0.244062    0.182611  0.158640  ...  0.102419  0.314448   \n",
       "4  0.279503  0.211180    0.223602  0.223602  ...  0.136646  0.316770   \n",
       "\n",
       "   shopping   clothes  hollister  abercrombie       die     death     drunk  \\\n",
       "0  0.297620  0.134898   0.054844     0.039826  0.178880  0.101509  0.084076   \n",
       "1  0.377891  0.157028   0.071842     0.049044  0.194395  0.127335  0.089969   \n",
       "2  0.483991  0.169769   0.131050     0.090097  0.205510  0.134773  0.116902   \n",
       "3  0.438222  0.168010   0.095010     0.077359  0.173458  0.122249  0.086729   \n",
       "4  0.571429  0.198758   0.124224     0.149068  0.217391  0.161491  0.130435   \n",
       "\n",
       "      drugs  \n",
       "0  0.064097  \n",
       "1  0.057051  \n",
       "2  0.047655  \n",
       "3  0.059054  \n",
       "4  0.055901  \n",
       "\n",
       "[5 rows x 40 columns]"
      ]
     },
     "execution_count": 117,
     "metadata": {},
     "output_type": "execute_result"
    }
   ],
   "source": [
    "centroids"
   ]
  },
  {
   "cell_type": "code",
   "execution_count": 118,
   "id": "6398d941-6236-471d-9e74-df8f9272f551",
   "metadata": {},
   "outputs": [],
   "source": [
    "df['Label']=kmeans_sns.labels_"
   ]
  },
  {
   "cell_type": "code",
   "execution_count": 119,
   "id": "c5c966df-e109-47ce-9230-f41c80b5963f",
   "metadata": {},
   "outputs": [
    {
     "data": {
      "text/html": [
       "<div>\n",
       "<style scoped>\n",
       "    .dataframe tbody tr th:only-of-type {\n",
       "        vertical-align: middle;\n",
       "    }\n",
       "\n",
       "    .dataframe tbody tr th {\n",
       "        vertical-align: top;\n",
       "    }\n",
       "\n",
       "    .dataframe thead th {\n",
       "        text-align: right;\n",
       "    }\n",
       "</style>\n",
       "<table border=\"1\" class=\"dataframe\">\n",
       "  <thead>\n",
       "    <tr style=\"text-align: right;\">\n",
       "      <th></th>\n",
       "      <th>gradyear</th>\n",
       "      <th>gender</th>\n",
       "      <th>age</th>\n",
       "      <th>friends</th>\n",
       "      <th>basketball</th>\n",
       "      <th>football</th>\n",
       "      <th>soccer</th>\n",
       "      <th>softball</th>\n",
       "      <th>volleyball</th>\n",
       "      <th>swimming</th>\n",
       "      <th>...</th>\n",
       "      <th>mall</th>\n",
       "      <th>shopping</th>\n",
       "      <th>clothes</th>\n",
       "      <th>hollister</th>\n",
       "      <th>abercrombie</th>\n",
       "      <th>die</th>\n",
       "      <th>death</th>\n",
       "      <th>drunk</th>\n",
       "      <th>drugs</th>\n",
       "      <th>Label</th>\n",
       "    </tr>\n",
       "  </thead>\n",
       "  <tbody>\n",
       "    <tr>\n",
       "      <th>0</th>\n",
       "      <td>2006</td>\n",
       "      <td>0</td>\n",
       "      <td>18.982</td>\n",
       "      <td>7</td>\n",
       "      <td>0</td>\n",
       "      <td>0</td>\n",
       "      <td>0</td>\n",
       "      <td>0</td>\n",
       "      <td>0</td>\n",
       "      <td>0</td>\n",
       "      <td>...</td>\n",
       "      <td>0</td>\n",
       "      <td>0</td>\n",
       "      <td>0</td>\n",
       "      <td>0</td>\n",
       "      <td>0</td>\n",
       "      <td>0</td>\n",
       "      <td>0</td>\n",
       "      <td>0</td>\n",
       "      <td>0</td>\n",
       "      <td>0</td>\n",
       "    </tr>\n",
       "    <tr>\n",
       "      <th>1</th>\n",
       "      <td>2006</td>\n",
       "      <td>1</td>\n",
       "      <td>18.801</td>\n",
       "      <td>0</td>\n",
       "      <td>0</td>\n",
       "      <td>1</td>\n",
       "      <td>0</td>\n",
       "      <td>0</td>\n",
       "      <td>0</td>\n",
       "      <td>0</td>\n",
       "      <td>...</td>\n",
       "      <td>1</td>\n",
       "      <td>0</td>\n",
       "      <td>0</td>\n",
       "      <td>0</td>\n",
       "      <td>0</td>\n",
       "      <td>0</td>\n",
       "      <td>0</td>\n",
       "      <td>0</td>\n",
       "      <td>0</td>\n",
       "      <td>0</td>\n",
       "    </tr>\n",
       "    <tr>\n",
       "      <th>2</th>\n",
       "      <td>2006</td>\n",
       "      <td>0</td>\n",
       "      <td>18.335</td>\n",
       "      <td>69</td>\n",
       "      <td>0</td>\n",
       "      <td>1</td>\n",
       "      <td>0</td>\n",
       "      <td>0</td>\n",
       "      <td>0</td>\n",
       "      <td>0</td>\n",
       "      <td>...</td>\n",
       "      <td>0</td>\n",
       "      <td>0</td>\n",
       "      <td>0</td>\n",
       "      <td>0</td>\n",
       "      <td>0</td>\n",
       "      <td>0</td>\n",
       "      <td>1</td>\n",
       "      <td>0</td>\n",
       "      <td>0</td>\n",
       "      <td>3</td>\n",
       "    </tr>\n",
       "    <tr>\n",
       "      <th>3</th>\n",
       "      <td>2006</td>\n",
       "      <td>1</td>\n",
       "      <td>18.875</td>\n",
       "      <td>0</td>\n",
       "      <td>0</td>\n",
       "      <td>0</td>\n",
       "      <td>0</td>\n",
       "      <td>0</td>\n",
       "      <td>0</td>\n",
       "      <td>0</td>\n",
       "      <td>...</td>\n",
       "      <td>0</td>\n",
       "      <td>0</td>\n",
       "      <td>0</td>\n",
       "      <td>0</td>\n",
       "      <td>0</td>\n",
       "      <td>0</td>\n",
       "      <td>0</td>\n",
       "      <td>0</td>\n",
       "      <td>0</td>\n",
       "      <td>0</td>\n",
       "    </tr>\n",
       "    <tr>\n",
       "      <th>4</th>\n",
       "      <td>2006</td>\n",
       "      <td>1</td>\n",
       "      <td>18.995</td>\n",
       "      <td>10</td>\n",
       "      <td>0</td>\n",
       "      <td>0</td>\n",
       "      <td>0</td>\n",
       "      <td>0</td>\n",
       "      <td>0</td>\n",
       "      <td>0</td>\n",
       "      <td>...</td>\n",
       "      <td>0</td>\n",
       "      <td>2</td>\n",
       "      <td>0</td>\n",
       "      <td>0</td>\n",
       "      <td>0</td>\n",
       "      <td>0</td>\n",
       "      <td>0</td>\n",
       "      <td>1</td>\n",
       "      <td>1</td>\n",
       "      <td>0</td>\n",
       "    </tr>\n",
       "  </tbody>\n",
       "</table>\n",
       "<p>5 rows × 41 columns</p>\n",
       "</div>"
      ],
      "text/plain": [
       "   gradyear  gender     age  friends  basketball  football  soccer  softball  \\\n",
       "0      2006       0  18.982        7           0         0       0         0   \n",
       "1      2006       1  18.801        0           0         1       0         0   \n",
       "2      2006       0  18.335       69           0         1       0         0   \n",
       "3      2006       1  18.875        0           0         0       0         0   \n",
       "4      2006       1  18.995       10           0         0       0         0   \n",
       "\n",
       "   volleyball  swimming  ...  mall  shopping  clothes  hollister  abercrombie  \\\n",
       "0           0         0  ...     0         0        0          0            0   \n",
       "1           0         0  ...     1         0        0          0            0   \n",
       "2           0         0  ...     0         0        0          0            0   \n",
       "3           0         0  ...     0         0        0          0            0   \n",
       "4           0         0  ...     0         2        0          0            0   \n",
       "\n",
       "   die  death  drunk  drugs  Label  \n",
       "0    0      0      0      0      0  \n",
       "1    0      0      0      0      0  \n",
       "2    0      1      0      0      3  \n",
       "3    0      0      0      0      0  \n",
       "4    0      0      1      1      0  \n",
       "\n",
       "[5 rows x 41 columns]"
      ]
     },
     "execution_count": 119,
     "metadata": {},
     "output_type": "execute_result"
    }
   ],
   "source": [
    "df.head()"
   ]
  },
  {
   "cell_type": "code",
   "execution_count": null,
   "id": "3d244eda-29b6-40c1-91d6-8b219cf1caf7",
   "metadata": {},
   "outputs": [],
   "source": []
  }
 ],
 "metadata": {
  "kernelspec": {
   "display_name": "Python 3 (ipykernel)",
   "language": "python",
   "name": "python3"
  },
  "language_info": {
   "codemirror_mode": {
    "name": "ipython",
    "version": 3
   },
   "file_extension": ".py",
   "mimetype": "text/x-python",
   "name": "python",
   "nbconvert_exporter": "python",
   "pygments_lexer": "ipython3",
   "version": "3.9.12"
  }
 },
 "nbformat": 4,
 "nbformat_minor": 5
}
